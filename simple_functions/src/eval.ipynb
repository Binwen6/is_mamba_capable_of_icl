{
 "cells": [
  {
   "cell_type": "code",
   "execution_count": 129,
   "id": "ed6cfeb1",
   "metadata": {},
   "outputs": [
    {
     "name": "stdout",
     "output_type": "stream",
     "text": [
      "The autoreload extension is already loaded. To reload it, use:\n",
      "  %reload_ext autoreload\n"
     ]
    }
   ],
   "source": [
    "from collections import OrderedDict\n",
    "import re\n",
    "import os\n",
    "\n",
    "import matplotlib.pyplot as plt\n",
    "import pandas as pd\n",
    "import seaborn as sns\n",
    "import torch\n",
    "from tqdm.notebook import tqdm\n",
    "\n",
    "from eval import get_run_metrics, read_run_dir, get_model_from_run\n",
    "from plot_utils import basic_plot, collect_results, relevant_model_names\n",
    "\n",
    "import scienceplots\n",
    "plt.style.use(['science', 'no-latex', 'light'])\n",
    "\n",
    "%matplotlib inline\n",
    "%load_ext autoreload\n",
    "%autoreload 2\n",
    "\n",
    "sns.set_theme('notebook', 'darkgrid')\n",
    "palette = sns.color_palette('colorblind')\n",
    "\n",
    "run_dir = \"../models/\""
   ]
  },
  {
   "cell_type": "code",
   "execution_count": 130,
   "id": "0e8d018b",
   "metadata": {
    "scrolled": true
   },
   "outputs": [
    {
     "data": {
      "text/html": [
       "<div>\n",
       "<style scoped>\n",
       "    .dataframe tbody tr th:only-of-type {\n",
       "        vertical-align: middle;\n",
       "    }\n",
       "\n",
       "    .dataframe tbody tr th {\n",
       "        vertical-align: top;\n",
       "    }\n",
       "\n",
       "    .dataframe thead th {\n",
       "        text-align: right;\n",
       "    }\n",
       "</style>\n",
       "<table border=\"1\" class=\"dataframe\">\n",
       "  <thead>\n",
       "    <tr style=\"text-align: right;\">\n",
       "      <th></th>\n",
       "      <th>run_id</th>\n",
       "      <th>task</th>\n",
       "      <th>model</th>\n",
       "      <th>kwargs</th>\n",
       "      <th>num_tasks</th>\n",
       "      <th>num_examples</th>\n",
       "      <th>n_dims</th>\n",
       "      <th>n_layer</th>\n",
       "      <th>n_head</th>\n",
       "      <th>run_name</th>\n",
       "    </tr>\n",
       "  </thead>\n",
       "  <tbody>\n",
       "    <tr>\n",
       "      <th>0</th>\n",
       "      <td>420fe524-1de3-4eae-ab6c-e02145a4999c</td>\n",
       "      <td>gkr_gpt2_fast</td>\n",
       "      <td>Transformer</td>\n",
       "      <td></td>\n",
       "      <td>-1</td>\n",
       "      <td>-1</td>\n",
       "      <td>20</td>\n",
       "      <td>4</td>\n",
       "      <td>8</td>\n",
       "      <td>gkr_gpt2_fast_debug</td>\n",
       "    </tr>\n",
       "    <tr>\n",
       "      <th>1</th>\n",
       "      <td>01792bc8-29fb-4d6a-b590-537dcf997170</td>\n",
       "      <td>linear_regression</td>\n",
       "      <td>Transformer</td>\n",
       "      <td></td>\n",
       "      <td>-1</td>\n",
       "      <td>-1</td>\n",
       "      <td>20</td>\n",
       "      <td>12</td>\n",
       "      <td>8</td>\n",
       "      <td>linear_regression_standard</td>\n",
       "    </tr>\n",
       "  </tbody>\n",
       "</table>\n",
       "</div>"
      ],
      "text/plain": [
       "                                 run_id               task        model  \\\n",
       "0  420fe524-1de3-4eae-ab6c-e02145a4999c      gkr_gpt2_fast  Transformer   \n",
       "1  01792bc8-29fb-4d6a-b590-537dcf997170  linear_regression  Transformer   \n",
       "\n",
       "  kwargs  num_tasks  num_examples  n_dims  n_layer  n_head  \\\n",
       "0                -1            -1      20        4       8   \n",
       "1                -1            -1      20       12       8   \n",
       "\n",
       "                     run_name  \n",
       "0         gkr_gpt2_fast_debug  \n",
       "1  linear_regression_standard  "
      ]
     },
     "execution_count": 130,
     "metadata": {},
     "output_type": "execute_result"
    }
   ],
   "source": [
    "df = read_run_dir(run_dir)\n",
    "df  # list all the runs in our run_dir"
   ]
  },
  {
   "cell_type": "markdown",
   "id": "f6d09964",
   "metadata": {},
   "source": [
    "# Plot pre-computed metrics"
   ]
  },
  {
   "cell_type": "code",
   "execution_count": 131,
   "id": "c0d7072e",
   "metadata": {},
   "outputs": [
    {
     "name": "stdout",
     "output_type": "stream",
     "text": [
      "Run path: ../models/<tasks.LinearRegression object at 0x7f7156997d30>/01792bc8-29fb-4d6a-b590-537dcf997170\n"
     ]
    }
   ],
   "source": [
    "run_path = os.path.join(str(run_dir), str(task), str(run_id))\n",
    "\n",
    "print(f\"Run path: {run_path}\")\n"
   ]
  },
  {
   "cell_type": "code",
   "execution_count": 132,
   "id": "34c7e259",
   "metadata": {},
   "outputs": [
    {
     "name": "stdout",
     "output_type": "stream",
     "text": [
      "Available models in metrics: []\n",
      "Expected models: []\n"
     ]
    }
   ],
   "source": [
    "print(\"Available models in metrics:\", list(metrics[\"standard\"].keys()))\n",
    "print(\"Expected models:\", models)\n"
   ]
  },
  {
   "cell_type": "code",
   "execution_count": 133,
   "id": "cd8e02c5",
   "metadata": {
    "scrolled": false
   },
   "outputs": [
    {
     "name": "stdout",
     "output_type": "stream",
     "text": [
      "\n",
      "=== Processing task: gkr_gpt2_fast ===\n",
      "Valid run path: ../models/gkr_gpt2_fast/420fe524-1de3-4eae-ab6c-e02145a4999c\n",
      "gkr_gpt2_fast_debug 420fe524-1de3-4eae-ab6c-e02145a4999c\n"
     ]
    },
    {
     "name": "stderr",
     "output_type": "stream",
     "text": [
      "100%|██████████| 1/1 [00:00<00:00, 28149.69it/s]\n"
     ]
    },
    {
     "name": "stdout",
     "output_type": "stream",
     "text": [
      "[Warning] No model names found for task gkr_gpt2_fast\n",
      "\n",
      "=== Processing task: linear_regression ===\n",
      "Valid run path: ../models/linear_regression/01792bc8-29fb-4d6a-b590-537dcf997170\n",
      "linear_regression_standard 01792bc8-29fb-4d6a-b590-537dcf997170\n"
     ]
    },
    {
     "name": "stderr",
     "output_type": "stream",
     "text": [
      "100%|██████████| 15/15 [00:00<00:00, 341926.96it/s]"
     ]
    },
    {
     "name": "stdout",
     "output_type": "stream",
     "text": [
      "[Skip] No matching models in standard metric for linear_regression\n"
     ]
    },
    {
     "name": "stderr",
     "output_type": "stream",
     "text": [
      "\n"
     ]
    }
   ],
   "source": [
    "import os\n",
    "import yaml\n",
    "import torch\n",
    "import matplotlib.pyplot as plt\n",
    "from munch import Munch\n",
    "\n",
    "run_base = \"../models\"\n",
    "xlim = 200  # 你可以设置为 None\n",
    "\n",
    "for task in os.listdir(run_base):\n",
    "    task_path = os.path.join(run_base, task)\n",
    "    if not os.path.isdir(task_path):\n",
    "        continue\n",
    "\n",
    "    print(f\"\\n=== Processing task: {task} ===\")\n",
    "\n",
    "    run_ids = []\n",
    "    run_paths = []\n",
    "\n",
    "    for run_id in os.listdir(task_path):\n",
    "        run_path = os.path.join(task_path, run_id)\n",
    "        config_path = os.path.join(run_path, \"config.yaml\")\n",
    "        if os.path.exists(config_path):\n",
    "            run_ids.append(run_id)\n",
    "            run_paths.append(run_path)\n",
    "            print(\"Valid run path:\", run_path)\n",
    "\n",
    "    if not run_paths:\n",
    "        print(f\"[Warning] No valid runs found under task {task}\")\n",
    "        continue\n",
    "\n",
    "    def valid_row(r):\n",
    "        return r.task == task and r.run_id in run_ids\n",
    "\n",
    "    def rename_mamba(x, r=None):\n",
    "        return x if 'mamba' not in x else 'Mamba'\n",
    "\n",
    "    # 注意：df 是你之前 collect 出的所有 run 表，需定义或传入\n",
    "    metrics = collect_results(run_base, df, valid_row=valid_row, rename_model=lambda x: rename_mamba(x, None),\n",
    "                              no_recompute=True, xlim=xlim)\n",
    "\n",
    "    # 从第一个 run 中取维度和点数信息（默认所有 run 参数一致）\n",
    "    _, conf = get_model_from_run(run_paths[0], only_conf=True)\n",
    "    n_dims = conf.model.n_dims\n",
    "    n_train_points = conf.training.curriculum.points.end\n",
    "\n",
    "    models = relevant_model_names.get(task, []).copy()\n",
    "    if not models:\n",
    "        print(f\"[Warning] No model names found for task {task}\")\n",
    "        continue\n",
    "\n",
    "    # === 可视化 ===\n",
    "# 重命名模型名\n",
    "    standard_metric = {\n",
    "        rename_mamba(k): v for k, v in metrics[\"standard\"].items()\n",
    "    }\n",
    "    available_models = list(standard_metric.keys())\n",
    "\n",
    "    # 你之前期望的模型名\n",
    "    models_to_plot = available_models\n",
    "\n",
    "    if not models_to_plot:\n",
    "        print(f\"[Skip] No matching models in standard metric for {task}\")\n",
    "    else:\n",
    "        print(f\"[Plot] standard models: {models_to_plot}\")\n",
    "\n",
    "        plt.figure(figsize=(20, 12))\n",
    "        basic_plot(standard_metric,\n",
    "                models=models_to_plot,\n",
    "                title=f\"{task} mode=standard\",\n",
    "                n_train_points=n_train_points,\n",
    "                size_mult=2.,\n",
    "                size=(10, 6))\n",
    "        plt.savefig(f\"../imgs/standard_{task}_not_toy.pdf\", bbox_inches='tight')\n",
    "        plt.show()\n"
   ]
  },
  {
   "cell_type": "code",
   "execution_count": 134,
   "id": "f5c2e319",
   "metadata": {},
   "outputs": [
    {
     "name": "stdout",
     "output_type": "stream",
     "text": [
      "[DEBUG] standard metric keys: []\n"
     ]
    }
   ],
   "source": [
    "print(\"[DEBUG] standard metric keys:\", list(metrics[\"standard\"].keys()))\n"
   ]
  },
  {
   "cell_type": "code",
   "execution_count": 135,
   "id": "9fa2be0e",
   "metadata": {},
   "outputs": [
    {
     "data": {
      "text/plain": [
       "dict_keys(['half_subspace', 'noisyLR', 'orthogonal_train_test', 'overlapping_train_test', 'random_quadrants', 'scale-x=0.333', 'scale-x=0.5', 'scale-x=2', 'scale-x=3', 'scale-y=0.333', 'scale-y=0.5', 'scale-y=2', 'scale-y=3', 'skewed', 'standard'])"
      ]
     },
     "execution_count": 135,
     "metadata": {},
     "output_type": "execute_result"
    }
   ],
   "source": [
    "metrics.keys()"
   ]
  },
  {
   "cell_type": "code",
   "execution_count": 136,
   "id": "31b4ecca",
   "metadata": {
    "scrolled": true
   },
   "outputs": [
    {
     "name": "stdout",
     "output_type": "stream",
     "text": [
      "[Skip] Empty metric for half_subspace\n",
      "[Skip] Empty metric for noisyLR\n",
      "[Skip] Empty metric for orthogonal_train_test\n",
      "[Skip] Empty metric for overlapping_train_test\n",
      "[Skip] Empty metric for random_quadrants\n",
      "[Skip] Empty metric for scale-x=0.333\n",
      "[Skip] Empty metric for scale-x=0.5\n",
      "[Skip] Empty metric for scale-x=2\n",
      "[Skip] Empty metric for scale-x=3\n",
      "[Skip] Empty metric for scale-y=0.333\n",
      "[Skip] Empty metric for scale-y=0.5\n",
      "[Skip] Empty metric for scale-y=2\n",
      "[Skip] Empty metric for scale-y=3\n",
      "[Skip] Empty metric for skewed\n"
     ]
    }
   ],
   "source": [
    "# === plot OOD curves ===\n",
    "for name, metric in metrics.items():\n",
    "    if name == \"standard\":\n",
    "        continue\n",
    "\n",
    "    if not metric:\n",
    "        print(f\"[Skip] Empty metric for {name}\")\n",
    "        continue\n",
    "\n",
    "    # 自动 scale 倍数提取\n",
    "    if \"scale\" in name:\n",
    "        try:\n",
    "            scale_factor = float(name.split(\"=\")[-1]) ** 2\n",
    "        except:\n",
    "            scale_factor = 1.0\n",
    "    else:\n",
    "        scale_factor = 1.0\n",
    "\n",
    "    # 计算 trivial 基线\n",
    "    trivial = 1.0 if \"noisy\" not in name else (1 + 1 / n_dims)\n",
    "\n",
    "    # 自动重命名模型名\n",
    "    renamed_metric = {rename_mamba(k): v for k, v in metric.items()}\n",
    "    available_models = list(renamed_metric.keys())\n",
    "\n",
    "    # 从 available models 中自动挑出与当前 experiment 一致的\n",
    "    models_to_plot = [m for m in models if m in available_models]\n",
    "    if not models_to_plot:\n",
    "        print(f\"[Skip] No matching models in metric '{name}'\")\n",
    "        continue\n",
    "\n",
    "    # 打印调试信息\n",
    "    print(f\"[{name}] plotting models:\", models_to_plot)\n",
    "\n",
    "    # 绘图\n",
    "    fig, ax = basic_plot(renamed_metric,\n",
    "                         models=models_to_plot,\n",
    "                         trivial=trivial * scale_factor,\n",
    "                         size_mult=2.,\n",
    "                         n_train_points=n_train_points,\n",
    "                         size=(10, 6))\n",
    "    ax.set_title(name)\n",
    "\n",
    "    # 坐标轴调整\n",
    "    if \"ortho\" in name or \"orthogonal\" in name:\n",
    "        ax.set_xlim(-1, n_dims - 1)\n",
    "    ax.set_ylim(-0.1 * scale_factor, 1.5 * scale_factor)\n",
    "    # plt.savefig(f\"../imgs/{name}_{task}.pdf\", bbox_inches='tight')\n",
    "    plt.show()\n"
   ]
  },
  {
   "cell_type": "markdown",
   "id": "e6f961d4",
   "metadata": {},
   "source": [
    "# Interactive setup\n",
    "\n",
    "We will now directly load the model and measure its in-context learning ability on a batch of random inputs. (In the paper we average over multiple such batches to obtain better estimates.)"
   ]
  },
  {
   "cell_type": "code",
   "execution_count": 137,
   "id": "beb327ce",
   "metadata": {},
   "outputs": [],
   "source": [
    "from samplers import get_data_sampler\n",
    "from tasks import get_task_sampler"
   ]
  },
  {
   "cell_type": "code",
   "execution_count": 138,
   "id": "03523b06",
   "metadata": {},
   "outputs": [],
   "source": [
    "model, conf = get_model_from_run(run_path)\n",
    "\n",
    "n_dims = conf.model.n_dims\n",
    "batch_size = conf.training.batch_size\n",
    "\n",
    "data_sampler = get_data_sampler(conf.training.data, n_dims)\n",
    "task_sampler = get_task_sampler(\n",
    "    conf.training.task,\n",
    "    n_dims,\n",
    "    batch_size,\n",
    "    **conf.training.task_kwargs\n",
    ")"
   ]
  },
  {
   "cell_type": "code",
   "execution_count": 139,
   "id": "1d9da7c3",
   "metadata": {},
   "outputs": [],
   "source": [
    "task = task_sampler()\n",
    "xs = data_sampler.sample_xs(b_size=batch_size, n_points=conf.training.curriculum.points.end)\n",
    "ys = task.evaluate(xs)"
   ]
  },
  {
   "cell_type": "code",
   "execution_count": 140,
   "id": "cb69ddda",
   "metadata": {},
   "outputs": [],
   "source": [
    "with torch.no_grad():\n",
    "    pred = model(xs, ys)"
   ]
  },
  {
   "cell_type": "code",
   "execution_count": 141,
   "id": "2aa97fa5",
   "metadata": {},
   "outputs": [
    {
     "data": {
      "image/png": "[encoded data removed]",
      "text/plain": [
       "<Figure size 350x262.5 with 1 Axes>"
      ]
     },
     "metadata": {},
     "output_type": "display_data"
    }
   ],
   "source": [
    "metric = task.get_metric()\n",
    "loss = metric(pred, ys).numpy()\n",
    "\n",
    "sparsity = conf.training.task_kwargs.sparsity if \"sparsity\" in conf.training.task_kwargs else None\n",
    "baseline = {\n",
    "    \"linear_regression\": n_dims,\n",
    "    \"sparse_linear_regression\": sparsity,\n",
    "    \"relu_2nn_regression\": n_dims,\n",
    "    \"decision_tree\": 1,\n",
    "}[conf.training.task]\n",
    "\n",
    "plt.plot(loss.mean(axis=0), lw=2, label=\"Transformer\")\n",
    "plt.axhline(baseline, ls=\"--\", color=\"gray\", label=\"zero estimator\")\n",
    "plt.xlabel(\"# in-context examples\")\n",
    "plt.ylabel(\"squared error\")\n",
    "plt.legend()\n",
    "# plt.title(f\"Task: {conf.training.task}, Model: {conf.model}\")\n",
    "plt.savefig(f\"../imgs/Task: {conf.training.task}, Model: {conf.model}_not_toy.png\")\n",
    "plt.show()"
   ]
  },
  {
   "cell_type": "markdown",
   "id": "eae775a1",
   "metadata": {},
   "source": [
    "As an exploration example, let's see how robust the model is to doubling all the inputs."
   ]
  },
  {
   "cell_type": "code",
   "execution_count": 142,
   "id": "a58e04e4",
   "metadata": {},
   "outputs": [],
   "source": [
    "xs2 = 2 * xs\n",
    "ys2 = task.evaluate(xs2)\n",
    "with torch.no_grad():\n",
    "    pred2 = model(xs2, ys2)"
   ]
  },
  {
   "cell_type": "code",
   "execution_count": 143,
   "id": "7ea71ba5",
   "metadata": {},
   "outputs": [
    {
     "data": {
      "image/png": "[encoded data removed]",
      "text/plain": [
       "<Figure size 350x262.5 with 1 Axes>"
      ]
     },
     "metadata": {},
     "output_type": "display_data"
    }
   ],
   "source": [
    "loss2 = metric(pred2, ys2).numpy()\n",
    "\n",
    "plt.plot(loss.mean(axis=0), lw=2, label=\"Transformer\")\n",
    "plt.plot(loss2.mean(axis=0) / 4, lw=2, label=\"Transformer on doubled inputs\")\n",
    "plt.axhline(baseline, ls=\"--\", color=\"gray\", label=\"zero estimator\")\n",
    "plt.xlabel(\"# in-context examples\")\n",
    "plt.ylabel(\"squared error\")\n",
    "plt.legend(loc='upper center', bbox_to_anchor=(0.5, 1.2), ncol=3, fontsize=10)\n",
    "plt.savefig(f\"../imgs/Task: {conf.training.task}, Model: {conf.model} - doubled inputs_not_toy.png\")\n",
    "plt.show()"
   ]
  },
  {
   "cell_type": "markdown",
   "id": "021f118e",
   "metadata": {},
   "source": [
    "The error does increase, especially when the number of in-context examples exceeds the dimension, but the model is still relatively accurate."
   ]
  },
  {
   "cell_type": "code",
   "execution_count": null,
   "id": "c3dc9cc8",
   "metadata": {},
   "outputs": [],
   "source": []
  }
 ],
 "metadata": {
  "kernelspec": {
   "display_name": "simple_functions",
   "language": "python",
   "name": "python3"
  },
  "language_info": {
   "codemirror_mode": {
    "name": "ipython",
    "version": 3
   },
   "file_extension": ".py",
   "mimetype": "text/x-python",
   "name": "python",
   "nbconvert_exporter": "python",
   "pygments_lexer": "ipython3",
   "version": "3.8.20"
  }
 },
 "nbformat": 4,
 "nbformat_minor": 5
}
